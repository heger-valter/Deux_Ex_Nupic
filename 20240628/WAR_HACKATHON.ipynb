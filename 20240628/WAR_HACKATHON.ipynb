{
  "nbformat": 4,
  "nbformat_minor": 0,
  "metadata": {
    "colab": {
      "provenance": [],
      "authorship_tag": "ABX9TyM8UaPHwWm0U/6f9kB3XPPY",
      "include_colab_link": true
    },
    "kernelspec": {
      "name": "python3",
      "display_name": "Python 3"
    },
    "language_info": {
      "name": "python"
    }
  },
  "cells": [
    {
      "cell_type": "markdown",
      "metadata": {
        "id": "view-in-github",
        "colab_type": "text"
      },
      "source": [
        "<a href=\"https://colab.research.google.com/github/heger-valter/Deux_Ex_Nupic/blob/master/WAR_HACKATHON.ipynb\" target=\"_parent\"><img src=\"https://colab.research.google.com/assets/colab-badge.svg\" alt=\"Open In Colab\"/></a>"
      ]
    },
    {
      "cell_type": "markdown",
      "source": [
        "Step 1 : **Data Collection:** Scrape headlines from popular news sources."
      ],
      "metadata": {
        "id": "X2vo-3g-f2EK"
      }
    },
    {
      "cell_type": "code",
      "execution_count": 4,
      "metadata": {
        "colab": {
          "base_uri": "https://localhost:8080/"
        },
        "id": "l7rybPTufIzK",
        "outputId": "95f1f95f-82e6-4f0c-8782-5cb9ec3664a0"
      },
      "outputs": [
        {
          "output_type": "stream",
          "name": "stdout",
          "text": [
            "['  News', ' Life', ' Entertainment', ' Finance', ' Sports', 'New on Yahoo', 'Biden addresses debate performance, rejects calls to end 2024 bid', 'Texas guests jump off Six Flags ride into the water after malfunction', 'Tractor Supply Co. eliminates DEI after conservative backlash', 'Oklahoma orders public schools to start teaching the Bible in classrooms', \"The days of 'plausibly live' Olympics coverage on NBC are coming to an end\", \"Theodore Roosevelt's stolen pocket watch recovered after 4 decades\", 'Supreme Court latest decisions: Justices rule on Jan. 6 defendants, criminalization of homelessness and power of federal agencies', 'Biden-Trump debate: What you didn’t see on TV from inside — and outside — the showdown in Atlanta', 'Presidential debate live updates: Fact checks, reaction after Biden, Trump face off', 'Fact-check: Biden and Trump trade falsehoods and context-free claims at 1st presidential debate of 2024', \"Who won the Biden-Trump debate? Biden's freeze draws age concerns\", 'China Finds Something Strange in Sample Retrieved From Moon', \"Elon Musk is beefing with Boeing again, calling out its CEO and saying he should be able to 'design aircraft, not spreadsheets'\", \"Clean energy investments bring 'new era' to domestic manufacturing and more jobs to America's Rust Belt: 'I think electric vehicles could soon be the second-biggest employer'\", \"The rise of Sam Altman, the OpenAI billionaire CEO who's just signed a deal with Apple\", \"Bugatti's new $4 million hypercar has 1,800 horsepower and gauges made with titanium and rubies — see the Tourbillon\", 'Woman shot dead by officer, Miami police say. Her roommate said she charged with a knife', 'Supreme Court decision guide: A breakdown of major cases and rulings expected in June and early July', '200 juicy truth or dare questions to liven up your next game night', 'Busan government offers cash for singles to match up at blind date event', 'New Jersey decides not to automatically renew some Trump liquor licenses, schedules July hearing', 'China sends new pandas to US for first time in 2 decades', 'Taiwan tells citizens to avoid travel to China after execution threats', 'Man shot at Pembroke Pines barber shop, police say', 'Asian students in Maryland report highest rate of racial discrimination', \"Nearly 48 million people watched the Trump-Biden debate on TV, but that's nothing compared to previous election years\", 'How East West Bank bridged opportunities for Asian American success', '\"Risky proposition\": Experts say replacing Biden would cause \"major rifts\" within Democratic Party', '\"Stunningly worse than I expected\": \"View\" hosts want Biden to \"step aside\" after disastrous debate', 'Fatburger reopens Elk Grove location under new management. ‘It’s a lot different’', 'This traveling popup interactive ‘museum’ comes to Miami after a tour in Europe', '12 celebrities who have declined to label their sexuality', \"Student-loan payments will be paused for 3 million borrowers after federal judges blocked debt cancellation and cheaper bills through Biden's new repayment plan\", 'Going to celebrate the Florida Panthers at Sunday’s victory parade? Here’s what you need to know', 'How botched travel to Edmonton bonded a Panthers fan and writer during the Stanley Cup Final', \"The 9 best things to stream this weekend, from a new season of 'The Bear' to a heartbreaking Celine Dion doc\", \"Microsoft AI CEO explains why the economics of information are about to 'radically change'\", \"60 British phrases that will confuse anybody who didn't grow up in the UK\", '\"Revival 69\" shows how John Lennon and Yoko Ono\\'s Plastic Ono band saved a transformative festival', 'Even Biden knows he flopped at the debate', '\"Narrow ruling\": Legal scholar says Supreme Court Jan. 6 decision won\\'t save Trump', \"Marilyn Monroe's Los Angeles home has been saved from demolition. Here's what it looks like today.\", 'Iowa Supreme Court upholds near-total abortion ban, returning women\\'s rights to the \"Civil War era\"', \"You're probably missing out on this international travel hack that saves time at the airport and costs nothing\", \"A Yale professor who struggled with stress created a concrete guide to being happy. Here's how it works.\", \"A grinding Russian assault appears telling about Putin's plan to defeat Ukraine\", \"Photos show Americans' horrified reactions to the Biden-Trump debate\", 'A millennial making $350,000 a year through overemployment says he only worked 50 hours a week', '‘A shift in our narrative’: FIU takes its place with the top Florida universities', 'More and more solo entrepreneurs are raking in $1 million. Here are the industries where business is booming.', 'A self-employed Gen Zer shares why you should have multiple income streams no matter who you work for', 'Migrants to be booted from Logan Airport, governor says sanctuary state is full', 'Inmate’s death at Northern California prison being investigated as a homicide, CDCR says', 'Watch: Nancy Pelosi Gives Ominous Answer on Replacing Biden', 'Black Politicians Rip Trump’s “Black Jobs” Comments to Shreds', \"Senior citizens concerned by Biden's debate showing, believe 'Biden is not a good performer': report\", 'Yahoo News 360', 'Weather', 'Weather']\n"
          ]
        }
      ],
      "source": [
        "import requests\n",
        "from bs4 import BeautifulSoup\n",
        "\n",
        "def get_headlines(url):\n",
        "    response = requests.get(url)\n",
        "    soup = BeautifulSoup(response.text, 'html.parser')\n",
        "    headlines = [h.text for h in soup.find_all('h3')]  # Adjust the tag based on the website structure\n",
        "    return headlines\n",
        "\n",
        "# Example usage\n",
        "url = \"https://news.yahoo.com\"\n",
        "headlines = get_headlines(url)\n",
        "print(headlines)"
      ]
    },
    {
      "cell_type": "markdown",
      "source": [
        "Step 2: **Preprocessing**: Clean and preprocess the text data.  You need to clean the text data by removing unwanted characters and performing other preprocessing steps like tokenization.\n"
      ],
      "metadata": {
        "id": "hwVLb6UQgwN2"
      }
    },
    {
      "cell_type": "code",
      "source": [
        "import re\n",
        "import nltk\n",
        "nltk.download('punkt')\n",
        "from nltk.tokenize import word_tokenize\n",
        "\n",
        "def preprocess_text(text):\n",
        "    text = re.sub(r'\\W', ' ', text)  # Remove non-word characters\n",
        "    text = text.lower()  # Convert to lowercase\n",
        "    tokens = word_tokenize(text)  # Tokenize the text\n",
        "    return tokens\n",
        "\n",
        "# Example usage\n",
        "clean_headlines = [preprocess_text(h) for h in headlines]\n",
        "print(clean_headlines)"
      ],
      "metadata": {
        "id": "kasTbEu9gFTs"
      },
      "execution_count": null,
      "outputs": []
    },
    {
      "cell_type": "markdown",
      "source": [
        "Step 3: **Sentiment Analysis**: Use a pre-trained model to analyze the sentiment and hostility of headlines.\n"
      ],
      "metadata": {
        "id": "ziZ0i16Hit_U"
      }
    },
    {
      "cell_type": "code",
      "source": [
        "from transformers import pipeline\n",
        "\n",
        "# Load pre-trained sentiment analysis model\n",
        "sentiment_pipeline = pipeline(\"sentiment-analysis\")\n",
        "\n",
        "def analyze_sentiment(headlines):\n",
        "    sentiments = sentiment_pipeline(headlines)\n",
        "    return sentiments\n",
        "\n",
        "# Example usage\n",
        "sentiments = analyze_sentiment(headlines)\n",
        "print(sentiments)\n"
      ],
      "metadata": {
        "id": "uXy5ieLmjBcd"
      },
      "execution_count": null,
      "outputs": []
    },
    {
      "cell_type": "markdown",
      "source": [
        "Step 4:** Probability Estimation**\n",
        "\n",
        "For this step, you'll need historical data on hostility before wars. Assuming you have such data, you can compare current sentiment scores to historical averages."
      ],
      "metadata": {
        "id": "LgrV068bkQPX"
      }
    },
    {
      "cell_type": "code",
      "source": [
        "import numpy as np\n",
        "\n",
        "# Example historical hostility scores\n",
        "historical_scores = np.array([0.2, 0.4, 0.5, 0.3, 0.6])  # Replace with actual data\n",
        "\n",
        "def estimate_probability(current_scores, historical_scores):\n",
        "    current_avg = np.mean(current_scores)\n",
        "    historical_avg = np.mean(historical_scores)\n",
        "    probability = current_avg / historical_avg  # Simple ratio, adjust as needed\n",
        "    return probability\n",
        "\n",
        "# Example usage\n",
        "current_scores = [s['score'] for s in sentiments if s['label'] == 'NEGATIVE']\n",
        "probability = estimate_probability(current_scores, historical_scores)\n",
        "print(f\"Estimated Probability of War: {probability:.2f}\")"
      ],
      "metadata": {
        "id": "giDvhSSPhIvF"
      },
      "execution_count": null,
      "outputs": []
    },
    {
      "cell_type": "markdown",
      "source": [
        "Step 5:  **Prototype App**: Build a simple application to showcase the functionality."
      ],
      "metadata": {
        "id": "1AdQGuBwhVWi"
      }
    },
    {
      "cell_type": "code",
      "source": [
        "from flask import Flask, jsonify\n",
        "\n",
        "app = Flask(__name__)\n",
        "\n",
        "@app.route('/headlines', methods=['GET'])\n",
        "def get_headlines_route():\n",
        "    url = \"https://news.yahoo.com\"\n",
        "    headlines = get_headlines(url)\n",
        "    return jsonify(headlines)\n",
        "\n",
        "@app.route('/sentiment', methods=['GET'])\n",
        "def get_sentiment_route():\n",
        "    url = \"https://news.yahoo.com\"\n",
        "    headlines = get_headlines(url)\n",
        "    sentiments = analyze_sentiment(headlines)\n",
        "    return jsonify(sentiments)\n",
        "\n",
        "@app.route('/probability', methods=['GET'])\n",
        "def get_probability_route():\n",
        "    url = \"https://news.yahoo.com\"\n",
        "    headlines = get_headlines(url)\n",
        "    sentiments = analyze_sentiment(headlines)\n",
        "    current_scores = [s['score'] for s in sentiments if s['label'] == 'NEGATIVE']\n",
        "    probability = estimate_probability(current_scores, historical_scores)\n",
        "    return jsonify({\"probability\": probability})\n",
        "\n",
        "if __name__ == '__main__':\n",
        "    app.run(debug=True)"
      ],
      "metadata": {
        "id": "5Zv5P5HGhP3y"
      },
      "execution_count": null,
      "outputs": []
    }
  ]
}
